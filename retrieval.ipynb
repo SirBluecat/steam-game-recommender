{
 "cells": [
  {
   "cell_type": "code",
   "execution_count": 70,
   "id": "3c118c95-9a03-493f-91d2-df9d34265df3",
   "metadata": {},
   "outputs": [],
   "source": [
    "import os\n",
    "import pprint\n",
    "import tempfile\n",
    "import json"
   ]
  },
  {
   "cell_type": "code",
   "execution_count": 71,
   "id": "fa37bc2e-16d8-4007-aa5b-fdc1027502ab",
   "metadata": {},
   "outputs": [],
   "source": [
    "import numpy as np\n",
    "import tensorflow as tf\n",
    "import tensorflow_datasets as tfds\n",
    "import tensorflow_recommenders as tfrs\n",
    "import pandas"
   ]
  },
  {
   "cell_type": "markdown",
   "id": "4440f67d-6ba6-46e7-9e31-7a115799a166",
   "metadata": {},
   "source": [
    "# Import user reviews and game data"
   ]
  },
  {
   "cell_type": "code",
   "execution_count": 6,
   "id": "417b23dd-7f91-4eab-814a-4724c31a29f4",
   "metadata": {},
   "outputs": [],
   "source": [
    "with open('data/pruned_user_data.json', \"r\") as infile:\n",
    "    user_data = json.load(infile)\n",
    "    \n",
    "with open('data/final_app_data.json', \"r\") as infile:\n",
    "    game_data = json.load(infile)"
   ]
  },
  {
   "cell_type": "markdown",
   "id": "0c6a6779-0a11-4b18-bd3e-4b2a6e550c30",
   "metadata": {},
   "source": [
    "## In version 1 of the retrieval model, we create a \"user_upvoted\" tf dataset where each entry is a movie and a user who positively reviewed it. We make dict tensor slices to support more features in the future."
   ]
  },
  {
   "cell_type": "code",
   "execution_count": 11,
   "id": "160db26f-9bae-41a1-9793-2b0c1ba76c8d",
   "metadata": {},
   "outputs": [],
   "source": [
    "user_upvoted_df = pandas.DataFrame(columns=['user_id', 'game_id'])\n",
    "for user in user_data:\n",
    "    for game in user_data[user]:\n",
    "        if user_data[user][game]['voted_up?'] == True:\n",
    "            user_upvoted_df.loc[len(user_upvoted_df.index)] = [user, game]"
   ]
  },
  {
   "cell_type": "code",
   "execution_count": 12,
   "id": "20cee68a-3115-4902-aeff-c8f2090fcf4d",
   "metadata": {},
   "outputs": [],
   "source": [
    "user_upvoted_df.to_csv('data/user_upvoted.csv')"
   ]
  },
  {
   "cell_type": "markdown",
   "id": "9c2414aa-1112-4e06-94e2-31e93bbcbbbe",
   "metadata": {},
   "source": [
    "### Change id types to ints"
   ]
  },
  {
   "cell_type": "code",
   "execution_count": 45,
   "id": "8bf63c42-a20e-429e-a162-133225bdff1b",
   "metadata": {},
   "outputs": [],
   "source": [
    "user_upvoted_df[[\"user_id\", \"game_id\"]] = user_upvoted_df[[\"user_id\", \"game_id\"]].apply(pandas.to_numeric)"
   ]
  },
  {
   "cell_type": "code",
   "execution_count": 52,
   "id": "e1120d8d-a68f-428d-b186-e239dd84e755",
   "metadata": {},
   "outputs": [
    {
     "data": {
      "text/plain": [
       "user_id    int64\n",
       "game_id    int64\n",
       "dtype: object"
      ]
     },
     "execution_count": 52,
     "metadata": {},
     "output_type": "execute_result"
    }
   ],
   "source": [
    "user_upvoted_df.dtypes"
   ]
  },
  {
   "cell_type": "code",
   "execution_count": 46,
   "id": "22b7a86e-b0d1-4b06-8066-5c343f112809",
   "metadata": {},
   "outputs": [],
   "source": [
    "user_upvoted_ds = tf.data.Dataset.from_tensor_slices(dict(user_upvoted_df))"
   ]
  },
  {
   "cell_type": "markdown",
   "id": "c5e3ba02-5fc4-46e9-94c2-7e4917a04037",
   "metadata": {},
   "source": [
    "### Check data structure"
   ]
  },
  {
   "cell_type": "code",
   "execution_count": 14,
   "id": "e44fec66-6d32-4a8a-9810-29d27d576198",
   "metadata": {},
   "outputs": [
    {
     "name": "stdout",
     "output_type": "stream",
     "text": [
      "{'user_id': <tf.Tensor: shape=(), dtype=string, numpy=b'76561198318922553'>, 'game_id': <tf.Tensor: shape=(), dtype=string, numpy=b'394360'>}\n"
     ]
    }
   ],
   "source": [
    "for element in user_upvoted_ds: \n",
    "    print(element)\n",
    "    break"
   ]
  },
  {
   "cell_type": "code",
   "execution_count": 15,
   "id": "8cf83409-3da8-465d-bb47-6ee93fd7d908",
   "metadata": {},
   "outputs": [
    {
     "data": {
      "text/plain": [
       "tensorflow.python.data.ops.dataset_ops.TensorSliceDataset"
      ]
     },
     "execution_count": 15,
     "metadata": {},
     "output_type": "execute_result"
    }
   ],
   "source": [
    "type(user_upvoted_ds)"
   ]
  },
  {
   "cell_type": "markdown",
   "id": "bb63b04c-f02e-44df-b78d-5e8e884771b2",
   "metadata": {},
   "source": [
    "## Now get the list of game_ids and create the game dataset, game_ds"
   ]
  },
  {
   "cell_type": "code",
   "execution_count": 28,
   "id": "35637468-41c2-45b2-9c4f-0b88cc713505",
   "metadata": {},
   "outputs": [],
   "source": [
    "unique_game_ids = [int(x) for x in game_data]\n",
    "game_ds = tf.data.experimental.from_list(unique_game_ids)"
   ]
  },
  {
   "cell_type": "code",
   "execution_count": 29,
   "id": "38b5e8f6-d1a5-44a1-b894-ece9fed5a0fb",
   "metadata": {},
   "outputs": [
    {
     "name": "stdout",
     "output_type": "stream",
     "text": [
      "tf.Tensor(730, shape=(), dtype=int32)\n"
     ]
    }
   ],
   "source": [
    "for element in game_ds: \n",
    "    print(element)\n",
    "    break"
   ]
  },
  {
   "cell_type": "code",
   "execution_count": 24,
   "id": "948dd4e3-6156-4b3f-b596-66f9c1fb2d63",
   "metadata": {},
   "outputs": [],
   "source": [
    "unique_user_ids = [int(x) for x in user_data]"
   ]
  },
  {
   "cell_type": "markdown",
   "id": "d938bf81-0c06-4231-9c25-c039bab9dc59",
   "metadata": {},
   "source": [
    "### Create train and test data from user_upvoted data"
   ]
  },
  {
   "cell_type": "code",
   "execution_count": 22,
   "id": "67b85be6-5eac-434b-ba63-a1c869890066",
   "metadata": {},
   "outputs": [
    {
     "data": {
      "text/plain": [
       "146852"
      ]
     },
     "execution_count": 22,
     "metadata": {},
     "output_type": "execute_result"
    }
   ],
   "source": [
    "tf.data.experimental.cardinality(user_upvoted_ds).numpy()"
   ]
  },
  {
   "cell_type": "code",
   "execution_count": 53,
   "id": "927e0459-7561-40b8-a55d-9692c729faa2",
   "metadata": {},
   "outputs": [],
   "source": [
    "tf.random.set_seed(1989)\n",
    "shuffled = user_upvoted_ds.shuffle(146_852, seed=1989, reshuffle_each_iteration=False)\n",
    "\n",
    "train = shuffled.take(100_000)\n",
    "test = shuffled.skip(100_000).take(25_000)"
   ]
  },
  {
   "cell_type": "markdown",
   "id": "628eee91-fa7e-44f0-a3e6-70a850e96cfb",
   "metadata": {},
   "source": [
    "# User and Game embedding models\n",
    "\n",
    "For both we map the unique game and user ids to a continuous range using their ids as a vocabulary, then convert to an embedding using the Embedding layer"
   ]
  },
  {
   "cell_type": "code",
   "execution_count": 54,
   "id": "44f424e3-10c3-420b-acf2-846a48854635",
   "metadata": {},
   "outputs": [],
   "source": [
    "embedding_dim = 32\n",
    "user_model = tf.keras.Sequential([\n",
    "    tf.keras.layers.IntegerLookup(\n",
    "        vocabulary=unique_user_ids, mask_token=None),\n",
    "    # We add an additional embedding to account for unknown tokens\n",
    "    tf.keras.layers.Embedding(len(unique_user_ids)+1, embedding_dim)\n",
    "])\n",
    "\n",
    "game_model = tf.keras.Sequential([\n",
    "    tf.keras.layers.IntegerLookup(\n",
    "        vocabulary=unique_game_ids, mask_token=None),\n",
    "    # We add an additional embedding to account for unknown tokens\n",
    "    tf.keras.layers.Embedding(len(unique_game_ids)+1, embedding_dim)\n",
    "])"
   ]
  },
  {
   "cell_type": "markdown",
   "id": "55e071bb-879b-4783-be09-b53f1ba30ea6",
   "metadata": {},
   "source": [
    "# Metric\n",
    "We use Factorized Top K metric, since it takes as its only input the candidates from the retrieval model. We need to compare the affinity score that the model calculates for this pair to the scores of all the other possible candidates\n",
    "\n",
    "Then combine this with built-in loss function"
   ]
  },
  {
   "cell_type": "code",
   "execution_count": 55,
   "id": "79b6563f-9819-40a6-b0fb-b031cd00a6ae",
   "metadata": {},
   "outputs": [],
   "source": [
    "metrics = tfrs.metrics.FactorizedTopK(candidates=game_ds.batch(128).map(game_model))\n",
    "task = tfrs.tasks.Retrieval(\n",
    "    metrics=metrics\n",
    ")"
   ]
  },
  {
   "cell_type": "markdown",
   "id": "57e7921d-18cf-410d-b57b-10cad7286a70",
   "metadata": {},
   "source": [
    "# Retrieval Model\n",
    "Defining the final model, defining training and test steps with loss functions\n",
    "\n",
    "If training_metrics is set False, we skip calculating metrics in training as well as evaluation"
   ]
  },
  {
   "cell_type": "code",
   "execution_count": 82,
   "id": "e2b18d33-4a01-462a-ab7a-a6ddac1364dd",
   "metadata": {},
   "outputs": [],
   "source": [
    "class SteamRetrievalModel(tf.keras.Model):\n",
    "    def __init__(self, user_model, game_model, training_metrics=True):\n",
    "        super().__init__()\n",
    "        self.user_model: tf.keras.Model = user_model\n",
    "        self.game_model: tf.keras.Model = game_model\n",
    "        self.task: tf.keras.layers.Layer = task\n",
    "\n",
    "    # features / datasets should be of form {str: tensor}\n",
    "    def train_step(self, features):\n",
    "\n",
    "        # Record gradients\n",
    "        with tf.GradientTape() as tape:\n",
    "            # Loss computation\n",
    "            user_embeddings = self.user_model(features[\"user_id\"])\n",
    "            positive_game_embeddings = self.game_model(features[\"game_id\"])\n",
    "            loss = self.task(user_embeddings, positive_game_embeddings)\n",
    "\n",
    "            # Regularization losses prevent overfitting by encouraging learning smaller weights\n",
    "            # Penalties added back into the final loss \n",
    "            regularization_loss = sum(self.losses)\n",
    "\n",
    "            total_loss = loss + regularization_loss\n",
    "\n",
    "        gradients = tape.gradient(total_loss, self.trainable_variables)\n",
    "        self.optimizer.apply_gradients(zip(gradients, self.trainable_variables))\n",
    "\n",
    "    #if training_metrics:\n",
    "        metrics = {metric.name: metric.result() for metric in self.metrics}\n",
    "        metrics[\"loss\"] = loss\n",
    "        metrics[\"regularization_loss\"] = regularization_loss\n",
    "        metrics[\"total_loss\"] = total_loss\n",
    "    \n",
    "        return metrics\n",
    "\n",
    "    # features / datasets should be of form {str: tensor}\n",
    "    def test_step(self, features) -> tf.Tensor:\n",
    "\n",
    "        # Loss computation\n",
    "        user_embeddings = self.user_model(features[\"user_id\"])\n",
    "        positive_game_embeddings = self.game_model(features[\"game_id\"])\n",
    "        loss = self.task(user_embeddings, positive_game_embeddings)\n",
    "\n",
    "        regularization_loss = sum(self.losses)\n",
    "\n",
    "        total_loss = loss + regularization_loss\n",
    "\n",
    "        metrics = {metric.name: metric.result() for metric in self.metrics}\n",
    "        metrics[\"loss\"] = loss\n",
    "        metrics[\"regularization_loss\"] = regularization_loss\n",
    "        metrics[\"total_loss\"] = total_loss\n",
    "\n",
    "        return metrics"
   ]
  },
  {
   "cell_type": "markdown",
   "id": "60d9e9d3-bee7-49a9-843e-e34fd5cd6dec",
   "metadata": {},
   "source": [
    "### Simple model"
   ]
  },
  {
   "cell_type": "code",
   "execution_count": 74,
   "id": "02765ebc-f099-419e-bc96-b554b713993b",
   "metadata": {},
   "outputs": [],
   "source": [
    "def SteamRetrievalModelSimple(tfrs.Model):\n",
    "    \n",
    "    def __init__(self, usermodel, movie_model):\n",
    "        super().__init__()\n",
    "        self.game_model: tf.keras.Model = game_model\n",
    "        self.user_model: tf.keras.Model = user_model\n",
    "        self.task: tf.keras.layers.Layer = task\n",
    "\n",
    "    def compute_loss(self, features):\n",
    "        user_embed = self.user_model(features[\"user_id\"])\n",
    "        positive_game_embed = self.game_model(features[\"game_id\"])\n",
    "        return self.task(user_embed, positive_game_embed)"
   ]
  },
  {
   "cell_type": "markdown",
   "id": "b3c1c73b-b02f-4a83-b74c-da5aeccdbcb6",
   "metadata": {},
   "source": [
    "# Keras fitting and evaluation\n",
    "### Train in three epochs using gradient model AdaGrad"
   ]
  },
  {
   "cell_type": "code",
   "execution_count": 83,
   "id": "ce10983c-655a-49c5-b749-c6e370e49b38",
   "metadata": {},
   "outputs": [],
   "source": [
    "model = SteamRetrievalModel(user_model, game_model)\n",
    "model.compile(optimizer=tf.keras.optimizers.Adagrad(learning_rate=0.1))"
   ]
  },
  {
   "cell_type": "markdown",
   "id": "c47b59c4-9517-4428-9ae5-df0117266d25",
   "metadata": {},
   "source": [
    "### Shuffle, batch, and cache training and test data"
   ]
  },
  {
   "cell_type": "code",
   "execution_count": 79,
   "id": "58a90fd7-cd40-46e4-9012-99b8afd1dd18",
   "metadata": {},
   "outputs": [],
   "source": [
    "cached_train = train.shuffle(100_000).batch(8192).cache()\n",
    "cached_test = test.batch(4096).cache()"
   ]
  },
  {
   "cell_type": "markdown",
   "id": "6f1008c9-4f71-4185-9e9c-e233c749d301",
   "metadata": {},
   "source": [
    "### Train the model"
   ]
  },
  {
   "cell_type": "code",
   "execution_count": 84,
   "id": "af37d5b7-732a-4e7a-801f-c08f5c45602e",
   "metadata": {},
   "outputs": [
    {
     "name": "stdout",
     "output_type": "stream",
     "text": [
      "Epoch 1/3\n",
      "13/13 [==============================] - 25s 2s/step - factorized_top_k/top_1_categorical_accuracy: 0.0000e+00 - factorized_top_k/top_5_categorical_accuracy: 7.9000e-04 - factorized_top_k/top_10_categorical_accuracy: 0.0023 - factorized_top_k/top_50_categorical_accuracy: 0.0131 - factorized_top_k/top_100_categorical_accuracy: 0.0216 - loss: 65057.9365 - regularization_loss: 0.0000e+00 - total_loss: 65057.9365\n",
      "Epoch 2/3\n",
      "13/13 [==============================] - 23s 2s/step - factorized_top_k/top_1_categorical_accuracy: 8.0000e-05 - factorized_top_k/top_5_categorical_accuracy: 0.0165 - factorized_top_k/top_10_categorical_accuracy: 0.0348 - factorized_top_k/top_50_categorical_accuracy: 0.1282 - factorized_top_k/top_100_categorical_accuracy: 0.2009 - loss: 64037.3443 - regularization_loss: 0.0000e+00 - total_loss: 64037.3443\n",
      "Epoch 3/3\n",
      "13/13 [==============================] - 23s 2s/step - factorized_top_k/top_1_categorical_accuracy: 0.0022 - factorized_top_k/top_5_categorical_accuracy: 0.0630 - factorized_top_k/top_10_categorical_accuracy: 0.1063 - factorized_top_k/top_50_categorical_accuracy: 0.2644 - factorized_top_k/top_100_categorical_accuracy: 0.3663 - loss: 60432.1158 - regularization_loss: 0.0000e+00 - total_loss: 60432.1158\n"
     ]
    },
    {
     "data": {
      "text/plain": [
       "<keras.callbacks.History at 0x2cc7aef07f0>"
      ]
     },
     "execution_count": 84,
     "metadata": {},
     "output_type": "execute_result"
    }
   ],
   "source": [
    "model.fit(cached_train, epochs=3)"
   ]
  },
  {
   "cell_type": "markdown",
   "id": "89cac070-6676-449d-8759-fd444e3fd699",
   "metadata": {},
   "source": [
    "### Evaluate the model"
   ]
  },
  {
   "cell_type": "code",
   "execution_count": 85,
   "id": "431611ca-77be-4f8c-ab6d-d8c60da07c94",
   "metadata": {},
   "outputs": [
    {
     "name": "stdout",
     "output_type": "stream",
     "text": [
      "7/7 [==============================] - 10s 1s/step - factorized_top_k/top_1_categorical_accuracy: 0.0021 - factorized_top_k/top_5_categorical_accuracy: 0.0256 - factorized_top_k/top_10_categorical_accuracy: 0.0431 - factorized_top_k/top_50_categorical_accuracy: 0.1166 - factorized_top_k/top_100_categorical_accuracy: 0.1611 - loss: 24739.2885 - regularization_loss: 0.0000e+00 - total_loss: 24739.2885\n"
     ]
    },
    {
     "data": {
      "text/plain": [
       "{'factorized_top_k/top_1_categorical_accuracy': 0.0021200000774115324,\n",
       " 'factorized_top_k/top_5_categorical_accuracy': 0.025599999353289604,\n",
       " 'factorized_top_k/top_10_categorical_accuracy': 0.04312000051140785,\n",
       " 'factorized_top_k/top_50_categorical_accuracy': 0.11655999720096588,\n",
       " 'factorized_top_k/top_100_categorical_accuracy': 0.161080002784729,\n",
       " 'loss': 2366.60302734375,\n",
       " 'regularization_loss': 0,\n",
       " 'total_loss': 2366.60302734375}"
      ]
     },
     "execution_count": 85,
     "metadata": {},
     "output_type": "execute_result"
    }
   ],
   "source": [
    "model.evaluate(cached_test, return_dict=True)"
   ]
  },
  {
   "cell_type": "markdown",
   "id": "5c528d38-be5e-4527-ab6c-f039d12edb98",
   "metadata": {},
   "source": [
    "# Predictions\n",
    "\n",
    "We take raw query features (user_id) and recommend games utilizing, for now, Brute Force"
   ]
  },
  {
   "cell_type": "code",
   "execution_count": 113,
   "id": "c5970618-b1d2-4f93-9e31-97751aed11e2",
   "metadata": {},
   "outputs": [],
   "source": [
    "def id_to_game(game_id: int):\n",
    "    return game_data[str(game_id)][\"name\"]"
   ]
  },
  {
   "cell_type": "code",
   "execution_count": 86,
   "id": "a83209d3-b5c1-4006-81c7-58933e46eef4",
   "metadata": {},
   "outputs": [
    {
     "data": {
      "text/plain": [
       "<tensorflow_recommenders.layers.factorized_top_k.BruteForce at 0x2cc89181d80>"
      ]
     },
     "execution_count": 86,
     "metadata": {},
     "output_type": "execute_result"
    }
   ],
   "source": [
    "index = tfrs.layers.factorized_top_k.BruteForce(model.user_model)\n",
    "index.index_from_dataset(\n",
    "  tf.data.Dataset.zip((game_ds.batch(128), game_ds.batch(128).map(model.game_model)))\n",
    ")"
   ]
  },
  {
   "cell_type": "markdown",
   "id": "809ef068-d172-4012-8052-d20c859e9887",
   "metadata": {},
   "source": [
    "## Example\n",
    "Let's look at a user's recommended games compared to their upvoted list. First is their recommended, second is their upvoted."
   ]
  },
  {
   "cell_type": "code",
   "execution_count": 116,
   "id": "92af73af-b75b-4c7b-b260-548d07e918b2",
   "metadata": {},
   "outputs": [
    {
     "name": "stdout",
     "output_type": "stream",
     "text": [
      "['Nancy Drew®: The Haunted Carousel', 'Nancy Drew®: Ghost Dogs of Moon Lake', 'Nancy Drew®: Danger on Deception Island', 'STAR WARS™ Starfighter™', 'Men of War: Red Tide', 'Sniper Elite 3', 'Nancy Drew®: The Secret of Shadow Ranch', 'Sniper Elite V2 Remastered', 'Nancy Drew®: The Haunting of Castle Malloy', 'Nancy Drew®: The Captive Curse']\n"
     ]
    }
   ],
   "source": [
    "_, games = index(tf.constant([76561198318922553]))\n",
    "print(list(map(id_to_game,list(games[0].numpy()))))"
   ]
  },
  {
   "cell_type": "code",
   "execution_count": 122,
   "id": "5b9979d0-6f44-4d31-be1f-62fe78d2214c",
   "metadata": {},
   "outputs": [
    {
     "name": "stdout",
     "output_type": "stream",
     "text": [
      "['Hearts of Iron IV', 'PAYDAY 2', 'Project Zomboid', 'Cities: Skylines', 'Mount & Blade II: Bannerlord', 'Europa Universalis IV', 'Stellaris', \"Sid Meier's Civilization® V\", 'Squad', 'Kingdom Come: Deliverance', 'Mount & Blade: Warband', 'Total War™: ROME II - Emperor Edition', 'The Forest', 'Total War: WARHAMMER II', 'Total War: MEDIEVAL II – Definitive Edition', 'Stormworks: Build and Rescue', 'The Long Dark', 'Assassin’s Creed® IV Black Flag™', 'Men of War: Assault Squad 2', 'STAR WARS™ Empire at War - Gold Pack', 'HITMAN 3', 'Sniper Elite 4', 'Prison Architect', 'UBOAT', 'Contraband Police', 'Banished', 'Total War: WARHAMMER', 'Far Cry® 4', 'Victoria II', 'Besiege', 'Holdfast: Nations At War', 'Sniper Elite 3', 'Verdun', 'Sniper Elite V2 Remastered', 'Tannenberg']\n"
     ]
    }
   ],
   "source": [
    "print(list(map(id_to_game,[game for game in list(user_upvoted_df.loc[user_upvoted_df['user_id']==76561198318922553].loc[:,\"game_id\"])])))"
   ]
  },
  {
   "cell_type": "markdown",
   "id": "c924179e-78c5-4c64-9602-38a70bd66f37",
   "metadata": {},
   "source": [
    "It seems like the model really wants them to play Nancy Drew detective games, which does not quite seem appropriate compared to their game list. However Men of War: Red Tide seems like a good idea."
   ]
  },
  {
   "cell_type": "code",
   "execution_count": null,
   "id": "a6589e77-5c10-4bbc-a3a3-64c601d0d314",
   "metadata": {},
   "outputs": [],
   "source": []
  }
 ],
 "metadata": {
  "kernelspec": {
   "display_name": "Python 3 (ipykernel)",
   "language": "python",
   "name": "python3"
  },
  "language_info": {
   "codemirror_mode": {
    "name": "ipython",
    "version": 3
   },
   "file_extension": ".py",
   "mimetype": "text/x-python",
   "name": "python",
   "nbconvert_exporter": "python",
   "pygments_lexer": "ipython3",
   "version": "3.10.0"
  }
 },
 "nbformat": 4,
 "nbformat_minor": 5
}
